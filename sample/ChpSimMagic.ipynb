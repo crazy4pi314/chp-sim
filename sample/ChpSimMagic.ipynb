{
 "cells": [
  {
   "cell_type": "markdown",
   "metadata": {},
   "source": [
    "# Sample use of the CHP Simulator in Q# Jupyter Notebook"
   ]
  },
  {
   "cell_type": "markdown",
   "metadata": {},
   "source": [
    "### 1. Start by loading the package that contains the simulator"
   ]
  },
  {
   "cell_type": "code",
   "execution_count": null,
   "metadata": {},
   "outputs": [],
   "source": [
    "%package QSharpCommunity.Simulators.Chp"
   ]
  },
  {
   "cell_type": "markdown",
   "metadata": {},
   "source": [
    "### 2. Ask for all the Jupyter magic commands to see that the `%chp` is loaded properly."
   ]
  },
  {
   "cell_type": "code",
   "execution_count": null,
   "metadata": {},
   "outputs": [],
   "source": [
    "%lsmagic"
   ]
  },
  {
   "cell_type": "markdown",
   "metadata": {},
   "source": [
    "### 3. Write or load the Q# code you want to use"
   ]
  },
  {
   "cell_type": "markdown",
   "metadata": {},
   "source": [
    "Let's start by loading the Q# libraries we will need for our sample below:"
   ]
  },
  {
   "cell_type": "code",
   "execution_count": null,
   "metadata": {},
   "outputs": [],
   "source": [
    "open Microsoft.Quantum.Diagnostics;\n",
    "open Microsoft.Quantum.Arrays;"
   ]
  },
  {
   "cell_type": "markdown",
   "metadata": {},
   "source": [
    "Set the number of qubits you want the simulator to use, and to not print small amplitudes. You can use a ton of qubits here (our default is 1024) but to make it easier to print and validate we will use 4 here 😁"
   ]
  },
  {
   "cell_type": "code",
   "execution_count": null,
   "metadata": {},
   "outputs": [],
   "source": [
    "%config chp.nQubits = 4\n",
    "%config dump.truncateSmallAmplitudes = true"
   ]
  },
  {
   "cell_type": "markdown",
   "metadata": {},
   "source": [
    "> TIP: You can always check to see what you have configured for options by just running `%config`:"
   ]
  },
  {
   "cell_type": "code",
   "execution_count": null,
   "metadata": {},
   "outputs": [],
   "source": [
    "%config"
   ]
  },
  {
   "cell_type": "markdown",
   "metadata": {},
   "source": [
    "Now let's try and use the CHP simulator! We will start by defining an operation here that has two `DumpMachine` outputs so we can check what the simulator knows about our qubits. We also use `AsserMeasurement` as a way to test that the simulator returns the correct results."
   ]
  },
  {
   "cell_type": "code",
   "execution_count": null,
   "metadata": {},
   "outputs": [],
   "source": [
    "operation RunChpDemo() : Unit {\n",
    "    use register = Qubit[4];\n",
    "    H(register[2]); //|+>\n",
    "    DumpMachine();\n",
    "    \n",
    "    S(register[2]); //|i>\n",
    "    S(register[2]); //|->\n",
    "    H(register[2]); //|1>\n",
    "    DumpMachine();\n",
    "    \n",
    "    AssertMeasurement([PauliZ],[register[0]], Zero, \"first qubit shouldn't have been flipped\");\n",
    "    AssertMeasurement([PauliZ],[register[1]], Zero, \"second qubit shouldn't have been flipped\");\n",
    "    AssertMeasurement([PauliZ],[register[2]], One, \"third qubit should have been flipped\");\n",
    "    AssertMeasurement([PauliZ],[register[3]], Zero, \"fourth qubit shouldn't have been flipped\");\n",
    "    \n",
    "    Reset(register[2]);\n",
    "} "
   ]
  },
  {
   "cell_type": "code",
   "execution_count": null,
   "metadata": {},
   "outputs": [],
   "source": [
    "%chp RunChpDemo"
   ]
  },
  {
   "cell_type": "code",
   "execution_count": null,
   "metadata": {},
   "outputs": [],
   "source": [
    "%simulate RunChpDemo"
   ]
  },
  {
   "cell_type": "markdown",
   "metadata": {},
   "source": [
    "### If you want to display the simulator information as a Tableau/Matrix:"
   ]
  },
  {
   "cell_type": "code",
   "execution_count": null,
   "metadata": {},
   "outputs": [],
   "source": [
    "%config chp.dumpFormat = \"matrix\""
   ]
  },
  {
   "cell_type": "code",
   "execution_count": null,
   "metadata": {},
   "outputs": [],
   "source": [
    "%chp RunChpDemo"
   ]
  },
  {
   "cell_type": "markdown",
   "metadata": {},
   "source": [
    "### If you want to turn on internal debug messages:"
   ]
  },
  {
   "cell_type": "code",
   "execution_count": null,
   "metadata": {},
   "outputs": [],
   "source": [
    "%config chp.debug = true"
   ]
  },
  {
   "cell_type": "code",
   "execution_count": null,
   "metadata": {},
   "outputs": [],
   "source": [
    "%chp RunChpDemo"
   ]
  },
  {
   "cell_type": "markdown",
   "metadata": {},
   "source": [
    "#### Optional: If you want to save your simulator config run the following, for more info run `%config?`"
   ]
  },
  {
   "cell_type": "code",
   "execution_count": null,
   "metadata": {},
   "outputs": [],
   "source": [
    "%config --save"
   ]
  },
  {
   "cell_type": "code",
   "execution_count": null,
   "metadata": {},
   "outputs": [],
   "source": [
    "%version"
   ]
  }
 ],
 "metadata": {
  "kernelspec": {
   "display_name": "Q#",
   "language": "qsharp",
   "name": "iqsharp"
  },
  "language_info": {
   "file_extension": ".qs",
   "mimetype": "text/x-qsharp",
   "name": "qsharp",
   "version": "0.14"
  }
 },
 "nbformat": 4,
 "nbformat_minor": 4
}
